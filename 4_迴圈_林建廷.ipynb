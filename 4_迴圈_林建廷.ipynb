{
  "nbformat": 4,
  "nbformat_minor": 0,
  "metadata": {
    "colab": {
      "name": "4_迴圈_林建廷.ipynb",
      "provenance": [],
      "authorship_tag": "ABX9TyOwPqy6goUTwGrCIqbrWcT3",
      "include_colab_link": true
    },
    "kernelspec": {
      "name": "python3",
      "display_name": "Python 3"
    },
    "language_info": {
      "name": "python"
    }
  },
  "cells": [
    {
      "cell_type": "markdown",
      "metadata": {
        "id": "view-in-github",
        "colab_type": "text"
      },
      "source": [
        "<a href=\"https://colab.research.google.com/github/Ken-04/python0425/blob/main/4_%E8%BF%B4%E5%9C%88_%E6%9E%97%E5%BB%BA%E5%BB%B7.ipynb\" target=\"_parent\"><img src=\"https://colab.research.google.com/assets/colab-badge.svg\" alt=\"Open In Colab\"/></a>"
      ]
    },
    {
      "cell_type": "code",
      "metadata": {
        "colab": {
          "base_uri": "https://localhost:8080/"
        },
        "id": "ommn7rjRnhXa",
        "outputId": "82c41eed-2374-4dd6-8031-814a243d947d"
      },
      "source": [
        "list1=range(10)\n",
        "print(list1)\n",
        "\n",
        "print(list(list1))"
      ],
      "execution_count": null,
      "outputs": [
        {
          "output_type": "stream",
          "text": [
            "range(0, 10)\n",
            "[0, 1, 2, 3, 4, 5, 6, 7, 8, 9]\n"
          ],
          "name": "stdout"
        }
      ]
    },
    {
      "cell_type": "code",
      "metadata": {
        "colab": {
          "base_uri": "https://localhost:8080/"
        },
        "id": "EQXs9PNvn-5Q",
        "outputId": "ca59fb95-8073-4a3e-e5cd-325a7a2c8a5a"
      },
      "source": [
        "list2=range(-4,5)\n",
        "print(list(list2))"
      ],
      "execution_count": null,
      "outputs": [
        {
          "output_type": "stream",
          "text": [
            "[-4, -3, -2, -1, 0, 1, 2, 3, 4]\n"
          ],
          "name": "stdout"
        }
      ]
    },
    {
      "cell_type": "code",
      "metadata": {
        "colab": {
          "base_uri": "https://localhost:8080/"
        },
        "id": "SCko2SVBoMuY",
        "outputId": "762caa4e-2d79-4c71-b927-044b9e2a9e19"
      },
      "source": [
        "list4=range(-4,6,2)\n",
        "print(list(list4))"
      ],
      "execution_count": null,
      "outputs": [
        {
          "output_type": "stream",
          "text": [
            "[-4, -2, 0, 2, 4]\n"
          ],
          "name": "stdout"
        }
      ]
    },
    {
      "cell_type": "code",
      "metadata": {
        "colab": {
          "base_uri": "https://localhost:8080/"
        },
        "id": "F44759tioUWd",
        "outputId": "1e21b8ab-3db0-48a3-e873-3bf62de8ffe6"
      },
      "source": [
        "for n in range(5):\n",
        "  print(n)"
      ],
      "execution_count": null,
      "outputs": [
        {
          "output_type": "stream",
          "text": [
            "0\n",
            "1\n",
            "2\n",
            "3\n",
            "4\n"
          ],
          "name": "stdout"
        }
      ]
    },
    {
      "cell_type": "code",
      "metadata": {
        "colab": {
          "base_uri": "https://localhost:8080/"
        },
        "id": "Jr3lDzNmoYgE",
        "outputId": "ac928c20-253f-40c1-d98f-7671401f6394"
      },
      "source": [
        "for n in range(10):\n",
        "    print(n, end='@')\n",
        "\n",
        "    #print(n, end='%%%%')"
      ],
      "execution_count": null,
      "outputs": [
        {
          "output_type": "stream",
          "text": [
            "0@1@2@3@4@5@6@7@8@9@"
          ],
          "name": "stdout"
        }
      ]
    },
    {
      "cell_type": "code",
      "metadata": {
        "colab": {
          "base_uri": "https://localhost:8080/"
        },
        "id": "-bhOMsqDodd6",
        "outputId": "8fc0d621-381f-42a6-e5b9-52ec910f81ed"
      },
      "source": [
        "mysum = 0\n",
        "\n",
        "for n in range(5):\n",
        "  mysum += n\n",
        "  print(mysum)"
      ],
      "execution_count": null,
      "outputs": [
        {
          "output_type": "stream",
          "text": [
            "0\n",
            "1\n",
            "3\n",
            "6\n",
            "10\n"
          ],
          "name": "stdout"
        }
      ]
    },
    {
      "cell_type": "code",
      "metadata": {
        "colab": {
          "base_uri": "https://localhost:8080/"
        },
        "id": "py8ztrlxofYk",
        "outputId": "ae12ed6e-8df9-4beb-abd2-2fa8b8991e68"
      },
      "source": [
        "mysum = 0\n",
        "\n",
        "for n in range(5):\n",
        "  mysum += n\n",
        "\n",
        "print(mysum)"
      ],
      "execution_count": null,
      "outputs": [
        {
          "output_type": "stream",
          "text": [
            "10\n"
          ],
          "name": "stdout"
        }
      ]
    },
    {
      "cell_type": "code",
      "metadata": {
        "colab": {
          "base_uri": "https://localhost:8080/"
        },
        "id": "eYuxYrHBonos",
        "outputId": "0690e07c-ac1e-4338-9e4f-06f394820fa7"
      },
      "source": [
        "x = int(input(\"請輸入一個正整數:\"))\n",
        "\n",
        "mysum = 0\n",
        "\n",
        "for n in range(x+1): ## 為什麼不是range(x)?\n",
        "  mysum += n\n",
        "\n",
        "print(mysum)"
      ],
      "execution_count": null,
      "outputs": [
        {
          "output_type": "stream",
          "text": [
            "請輸入一個正整數:66\n",
            "2211\n"
          ],
          "name": "stdout"
        }
      ]
    },
    {
      "cell_type": "code",
      "metadata": {
        "colab": {
          "base_uri": "https://localhost:8080/"
        },
        "id": "LftiYn_vo_cI",
        "outputId": "7f89c5a5-8c42-4e60-c449-dd061f9beb3f"
      },
      "source": [
        "numbers = [21, 4, 35, 1, 8, 7, 3, 6, 9]\n",
        "my_numbers = []\n",
        "\n",
        "for number in numbers:\n",
        "  if (number % 2 != 0): \n",
        "    my_numbers.append(number)\n",
        "\n",
        "print(my_numbers)"
      ],
      "execution_count": null,
      "outputs": [
        {
          "output_type": "stream",
          "text": [
            "[21, 35, 1, 7, 3, 9]\n"
          ],
          "name": "stdout"
        }
      ]
    },
    {
      "cell_type": "code",
      "metadata": {
        "colab": {
          "base_uri": "https://localhost:8080/"
        },
        "id": "t1K03PGYpJ9H",
        "outputId": "254a7982-82a7-443d-b994-fde63cb79223"
      },
      "source": [
        "total = i = 1\n",
        "\n",
        "n = int(input(\"請輸入正整數 n 的值：\")) # 再問一次:為什麼要加\n",
        "\n",
        "while(i<=n):\n",
        "    total *= i  \n",
        "    i+=1      \n",
        "\n",
        "print(\"%d!=%d\" % (n, total))"
      ],
      "execution_count": null,
      "outputs": [
        {
          "output_type": "stream",
          "text": [
            "請輸入正整數 n 的值：30\n",
            "30!=265252859812191058636308480000000\n"
          ],
          "name": "stdout"
        }
      ]
    },
    {
      "cell_type": "code",
      "metadata": {
        "colab": {
          "base_uri": "https://localhost:8080/"
        },
        "id": "V53YeQy3pZdY",
        "outputId": "3f119b5a-72a2-44fe-90c8-29f3e2686e7c"
      },
      "source": [
        "fruits = [\"香蕉\",\"蘋果\",\"橘子\",\"鳳梨\",\"西瓜\"]\n",
        "\n",
        "while True:\n",
        "    fruit = input(\"請輸入喜歡的水果(Enter 結束)：\")\n",
        "\n",
        "\n",
        "    if (fruit==\"\"):\n",
        "        break\n",
        "\n",
        "    n = fruits.count(fruit) \n",
        "    if (n>0):  # 串列元素存在\n",
        "        p=fruits.index(fruit)\n",
        "        print(\"%s 在串列中的第 %d 項\" %(fruit,p+1))\n",
        "    else:\n",
        "        print(fruit,\"不在串列中!\")\n"
      ],
      "execution_count": null,
      "outputs": [
        {
          "output_type": "stream",
          "text": [
            "請輸入喜歡的水果(Enter 結束)：西瓜\n",
            "西瓜 在串列中的第 5 項\n",
            "請輸入喜歡的水果(Enter 結束)：\n"
          ],
          "name": "stdout"
        }
      ]
    },
    {
      "cell_type": "code",
      "metadata": {
        "colab": {
          "base_uri": "https://localhost:8080/"
        },
        "id": "vuyaXg5gvXr_",
        "outputId": "e4ba1f0f-ae9c-4230-da61-0835f5b07c62"
      },
      "source": [
        "n = int(input(\"請輸入正整數：\"))\n",
        "\n",
        "for i in range(1, n+1):\n",
        "    if i % 5 ==0:\n",
        "        continue\n",
        "    print(i,end=\" \")"
      ],
      "execution_count": null,
      "outputs": [
        {
          "output_type": "stream",
          "text": [
            "請輸入正整數：30\n",
            "1 2 3 4 6 7 8 9 11 12 13 14 16 17 18 19 21 22 23 24 26 27 28 29 "
          ],
          "name": "stdout"
        }
      ]
    },
    {
      "cell_type": "code",
      "metadata": {
        "colab": {
          "base_uri": "https://localhost:8080/"
        },
        "id": "BXtypFU_vaPl",
        "outputId": "296e352d-0464-4085-c6d1-fc9770a12788"
      },
      "source": [
        "#!/usr/bin/python\n",
        "# -*- coding: UTF-8 -*-\n",
        " \n",
        "for i in range(1,6):\n",
        "    for j in range(1,5):\n",
        "        for k in range(1,7):\n",
        "            if( i != k ) and (i != j) and (j != k):\n",
        "                print(i,j,k)"
      ],
      "execution_count": null,
      "outputs": [
        {
          "output_type": "stream",
          "text": [
            "1 2 3\n",
            "1 2 4\n",
            "1 2 5\n",
            "1 2 6\n",
            "1 3 2\n",
            "1 3 4\n",
            "1 3 5\n",
            "1 3 6\n",
            "1 4 2\n",
            "1 4 3\n",
            "1 4 5\n",
            "1 4 6\n",
            "2 1 3\n",
            "2 1 4\n",
            "2 1 5\n",
            "2 1 6\n",
            "2 3 1\n",
            "2 3 4\n",
            "2 3 5\n",
            "2 3 6\n",
            "2 4 1\n",
            "2 4 3\n",
            "2 4 5\n",
            "2 4 6\n",
            "3 1 2\n",
            "3 1 4\n",
            "3 1 5\n",
            "3 1 6\n",
            "3 2 1\n",
            "3 2 4\n",
            "3 2 5\n",
            "3 2 6\n",
            "3 4 1\n",
            "3 4 2\n",
            "3 4 5\n",
            "3 4 6\n",
            "4 1 2\n",
            "4 1 3\n",
            "4 1 5\n",
            "4 1 6\n",
            "4 2 1\n",
            "4 2 3\n",
            "4 2 5\n",
            "4 2 6\n",
            "4 3 1\n",
            "4 3 2\n",
            "4 3 5\n",
            "4 3 6\n",
            "5 1 2\n",
            "5 1 3\n",
            "5 1 4\n",
            "5 1 6\n",
            "5 2 1\n",
            "5 2 3\n",
            "5 2 4\n",
            "5 2 6\n",
            "5 3 1\n",
            "5 3 2\n",
            "5 3 4\n",
            "5 3 6\n",
            "5 4 1\n",
            "5 4 2\n",
            "5 4 3\n",
            "5 4 6\n"
          ],
          "name": "stdout"
        }
      ]
    },
    {
      "cell_type": "code",
      "metadata": {
        "colab": {
          "base_uri": "https://localhost:8080/"
        },
        "id": "VudSM6TWveRc",
        "outputId": "79a34a5a-7350-4193-dd80-4d258fa3b404"
      },
      "source": [
        "for x in range(19):\n",
        "  print(x)"
      ],
      "execution_count": null,
      "outputs": [
        {
          "output_type": "stream",
          "text": [
            "0\n",
            "1\n",
            "2\n",
            "3\n",
            "4\n",
            "5\n",
            "6\n",
            "7\n",
            "8\n",
            "9\n",
            "10\n",
            "11\n",
            "12\n",
            "13\n",
            "14\n",
            "15\n",
            "16\n",
            "17\n",
            "18\n"
          ],
          "name": "stdout"
        }
      ]
    },
    {
      "cell_type": "code",
      "metadata": {
        "colab": {
          "base_uri": "https://localhost:8080/"
        },
        "id": "mu_X0MUNvj4J",
        "outputId": "1d1fcdac-ce42-4c50-a1e1-ee0a0c5eff37"
      },
      "source": [
        "for x in range(0,19,2):\n",
        "  print(x)"
      ],
      "execution_count": null,
      "outputs": [
        {
          "output_type": "stream",
          "text": [
            "0\n",
            "2\n",
            "4\n",
            "6\n",
            "8\n",
            "10\n",
            "12\n",
            "14\n",
            "16\n",
            "18\n"
          ],
          "name": "stdout"
        }
      ]
    },
    {
      "cell_type": "code",
      "metadata": {
        "colab": {
          "base_uri": "https://localhost:8080/"
        },
        "id": "oP6BewVPvl-x",
        "outputId": "0a6e667f-36a8-4a19-c446-a8ae8f0b6c37"
      },
      "source": [
        "for x in range(20,11,-1):\n",
        "  print(x)"
      ],
      "execution_count": null,
      "outputs": [
        {
          "output_type": "stream",
          "text": [
            "20\n",
            "19\n",
            "18\n",
            "17\n",
            "16\n",
            "15\n",
            "14\n",
            "13\n",
            "12\n"
          ],
          "name": "stdout"
        }
      ]
    },
    {
      "cell_type": "code",
      "metadata": {
        "id": "UTfAB4cGvqUj"
      },
      "source": [
        "for x in range(0,19,-1):\n",
        "  print(x)"
      ],
      "execution_count": null,
      "outputs": []
    },
    {
      "cell_type": "code",
      "metadata": {
        "colab": {
          "base_uri": "https://localhost:8080/"
        },
        "id": "OFNLhBTiv5Vv",
        "outputId": "601829d8-857b-4549-9601-b2220f32f4e8"
      },
      "source": [
        "list1 = range(0,19,3)\n",
        "\n",
        "for x in list1:\n",
        "  print(x, end=\" \")"
      ],
      "execution_count": null,
      "outputs": [
        {
          "output_type": "stream",
          "text": [
            "0 3 6 9 12 15 18 "
          ],
          "name": "stdout"
        }
      ]
    },
    {
      "cell_type": "code",
      "metadata": {
        "id": "sYeZMxcLxFps",
        "outputId": "f647c4e0-0490-40ab-8c96-c32782a65200",
        "colab": {
          "base_uri": "https://localhost:8080/"
        }
      },
      "source": [
        "#!/usr/bin/python\n",
        "# -*- coding: UTF-8 -*-\n",
        " \n",
        "i = int(input('淨利潤:'))\n",
        "\n",
        "arr = [1000000,600000,400000,200000,100000,0]\n",
        "rat = [0.01,0.015,0.03,0.05,0.075,0.1]\n",
        "r = 0\n",
        "\n",
        "for idx in range(0,6):\n",
        "    if i>arr[idx]:\n",
        "        r+=(i-arr[idx])*rat[idx]\n",
        "        print((i-arr[idx])*rat[idx])\n",
        "        i=arr[idx]\n",
        "\n",
        "print(r)"
      ],
      "execution_count": 1,
      "outputs": [
        {
          "output_type": "stream",
          "text": [
            "淨利潤:11111\n",
            "1111.1000000000001\n",
            "1111.1000000000001\n"
          ],
          "name": "stdout"
        }
      ]
    }
  ]
}